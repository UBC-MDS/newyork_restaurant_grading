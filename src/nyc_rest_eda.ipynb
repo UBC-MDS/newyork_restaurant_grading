{
 "cells": [
  {
   "cell_type": "code",
   "execution_count": 4,
   "id": "4f23ba8f-842c-4c5f-b103-d55947a4170d",
   "metadata": {},
   "outputs": [
    {
     "data": {
      "text/plain": [
       "RendererRegistry.enable('mimetype')"
      ]
     },
     "execution_count": 4,
     "metadata": {},
     "output_type": "execute_result"
    }
   ],
   "source": [
    "import pandas as pd\n",
    "from sklearn.model_selection import train_test_split\n",
    "import altair as alt\n",
    "\n",
    "alt.data_transformers.enable('data_server')\n",
    "alt.renderers.enable('mimetype')"
   ]
  },
  {
   "cell_type": "code",
   "execution_count": 5,
   "id": "df8b1cb7-ccac-4054-8f64-3ffe71ad0f95",
   "metadata": {},
   "outputs": [],
   "source": [
    "nyc_df = pd.read_csv(\"https://raw.githubusercontent.com/rfordatascience/tidytuesday/master/data/2018/2018-12-11/nyc_restaurants.csv\")"
   ]
  },
  {
   "cell_type": "code",
   "execution_count": 6,
   "id": "498f21b2-49fc-4b08-a28c-114fb1db46e6",
   "metadata": {},
   "outputs": [
    {
     "data": {
      "text/plain": [
       "(300000, 13)"
      ]
     },
     "execution_count": 6,
     "metadata": {},
     "output_type": "execute_result"
    }
   ],
   "source": [
    "nyc_df.shape"
   ]
  },
  {
   "cell_type": "code",
   "execution_count": 7,
   "id": "ca9e5dbf-a7e7-46ce-9d55-207f17e45ef3",
   "metadata": {},
   "outputs": [
    {
     "data": {
      "text/plain": [
       "2018    112606\n",
       "2017     78047\n",
       "2016     73750\n",
       "2015     34339\n",
       "1900       796\n",
       "2014       453\n",
       "2013         7\n",
       "2012         2\n",
       "Name: inspection_date, dtype: int64"
      ]
     },
     "execution_count": 7,
     "metadata": {},
     "output_type": "execute_result"
    }
   ],
   "source": [
    "nyc_df['inspection_date'].str[-4:].value_counts()"
   ]
  },
  {
   "cell_type": "code",
   "execution_count": 8,
   "id": "a0ab03f9-ddc8-44e9-995a-6d79c878ae4e",
   "metadata": {},
   "outputs": [
    {
     "data": {
      "text/plain": [
       "2018    57857\n",
       "2017    38895\n",
       "2016    37846\n",
       "2015    16647\n",
       "2014      202\n",
       "2012        2\n",
       "2013        2\n",
       "Name: inspection_date, dtype: int64"
      ]
     },
     "execution_count": 8,
     "metadata": {},
     "output_type": "execute_result"
    }
   ],
   "source": [
    "nyc_df_drop_na = nyc_df[nyc_df['grade'].notna()]\n",
    "nyc_df_drop_na['inspection_date'].str[-4:].value_counts()"
   ]
  },
  {
   "cell_type": "code",
   "execution_count": 9,
   "id": "84e7b99f-7dfb-46af-a0b0-bc38fcc7a713",
   "metadata": {},
   "outputs": [
    {
     "data": {
      "text/plain": [
       "A    119647\n",
       "B     19215\n",
       "C      5888\n",
       "Z      3316\n",
       "P      1819\n",
       "Name: grade, dtype: int64"
      ]
     },
     "execution_count": 9,
     "metadata": {},
     "output_type": "execute_result"
    }
   ],
   "source": [
    "nyc_df_cleaned = nyc_df_drop_na.loc[nyc_df['grade'] != 'Not Yet Graded']\n",
    "nyc_df_cleaned['grade'].value_counts()"
   ]
  },
  {
   "cell_type": "code",
   "execution_count": 10,
   "id": "d113e6d1-7276-4839-ba5e-5bfafe3e9145",
   "metadata": {},
   "outputs": [
    {
     "data": {
      "text/plain": [
       "0.7984184711888158"
      ]
     },
     "execution_count": 10,
     "metadata": {},
     "output_type": "execute_result"
    }
   ],
   "source": [
    "119647/149855"
   ]
  },
  {
   "cell_type": "code",
   "execution_count": 11,
   "id": "29db3444-7b98-431b-80c6-55c5ed32ff0a",
   "metadata": {},
   "outputs": [
    {
     "data": {
      "text/plain": [
       "A    119647\n",
       "F     30238\n",
       "Name: grade, dtype: int64"
      ]
     },
     "execution_count": 11,
     "metadata": {},
     "output_type": "execute_result"
    }
   ],
   "source": [
    "nyc_df_cleaned.loc[nyc_df_cleaned['grade'] != 'A', 'grade'] = 'F'\n",
    "nyc_df_cleaned['grade'].value_counts()"
   ]
  },
  {
   "cell_type": "code",
   "execution_count": 12,
   "id": "af02bce8-3ddd-4629-b952-e8480d172add",
   "metadata": {},
   "outputs": [],
   "source": [
    "train_df, test_df = train_test_split(nyc_df_cleaned, test_size=0.25, random_state=123)"
   ]
  },
  {
   "cell_type": "code",
   "execution_count": 13,
   "id": "6ec4b51c-d671-491e-9552-1e756f1a4c01",
   "metadata": {},
   "outputs": [
    {
     "data": {
      "text/plain": [
       "A    89789\n",
       "F    22624\n",
       "Name: grade, dtype: int64"
      ]
     },
     "execution_count": 13,
     "metadata": {},
     "output_type": "execute_result"
    }
   ],
   "source": [
    "train_df['grade'].value_counts()"
   ]
  },
  {
   "cell_type": "code",
   "execution_count": 14,
   "id": "ff299e92-176d-4da6-9a83-6d68209caaac",
   "metadata": {},
   "outputs": [
    {
     "data": {
      "text/plain": [
       "A    29858\n",
       "F     7614\n",
       "Name: grade, dtype: int64"
      ]
     },
     "execution_count": 14,
     "metadata": {},
     "output_type": "execute_result"
    }
   ],
   "source": [
    "test_df['grade'].value_counts()"
   ]
  },
  {
   "cell_type": "code",
   "execution_count": 15,
   "id": "235dbc70-f110-4fab-90f1-77a3c0313032",
   "metadata": {},
   "outputs": [],
   "source": [
    "score_hist = (\n",
    "    alt.Chart(train_df).mark_bar(opacity=0.5).encode(\n",
    "    alt.X('score', bin=True, scale=alt.Scale(domain=[0, 100]), title='Score'),\n",
    "    alt.Y('count()'),\n",
    "    alt.Color('grade', scale=alt.Scale(scheme='dark2'), title='Grade')\n",
    "))"
   ]
  },
  {
   "cell_type": "code",
   "execution_count": 16,
   "id": "80dfc06c-fd6a-4f86-8415-957dc1357967",
   "metadata": {},
   "outputs": [],
   "source": [
    "score_dens_plot = (\n",
    "    alt.Chart(\n",
    "    train_df\n",
    ").transform_density(\n",
    "    'score',\n",
    "    groupby=['grade'],\n",
    "    as_=['score', 'density'],\n",
    "    extent=[0, 80],\n",
    ").mark_area(opacity=0.4).encode(\n",
    "    alt.X('score', title='Score'),\n",
    "    alt.Y('density:Q', title='Density'),\n",
    "    alt.Color('grade', scale=alt.Scale(scheme='dark2'), title='Grade')\n",
    "))"
   ]
  },
  {
   "cell_type": "code",
   "execution_count": 17,
   "id": "b10b6826-1133-4561-920f-3446216dd86b",
   "metadata": {},
   "outputs": [],
   "source": [
    "score_dists = (score_hist | score_dens_plot).properties(title='Distribution of Scores by Grade')"
   ]
  },
  {
   "cell_type": "code",
   "execution_count": 24,
   "id": "c969096a-f41d-4cc4-bd17-4d3e003ca15e",
   "metadata": {},
   "outputs": [
    {
     "name": "stderr",
     "output_type": "stream",
     "text": [
      "/Users/lzung/opt/miniconda3/envs/571/lib/python3.10/site-packages/altair/utils/core.py:317: FutureWarning: iteritems is deprecated and will be removed in a future version. Use .items instead.\n",
      "  for col_name, dtype in df.dtypes.iteritems():\n"
     ]
    }
   ],
   "source": [
    "score_dists.save('score_dists.html')"
   ]
  },
  {
   "cell_type": "code",
   "execution_count": 28,
   "id": "f38ae7e2-5eed-41cd-a03e-b6835858b572",
   "metadata": {},
   "outputs": [
    {
     "data": {
      "application/vnd.vegalite.v4+json": {
       "$schema": "https://vega.github.io/schema/vega-lite/v4.17.0.json",
       "columns": 1,
       "config": {
        "view": {
         "continuousHeight": 300,
         "continuousWidth": 400
        }
       },
       "data": {
        "url": "http://localhost:52044/f2b82a6cde83ef9ff9d2d80169a97166.json"
       },
       "facet": {
        "field": "grade",
        "type": "nominal"
       },
       "spec": {
        "encoding": {
         "color": {
          "field": "grade",
          "scale": {
           "scheme": "dark2"
          },
          "type": "nominal"
         },
         "x": {
          "aggregate": "count",
          "type": "quantitative"
         },
         "y": {
          "field": "critical_flag",
          "title": "Critical Flag",
          "type": "nominal"
         }
        },
        "mark": "bar"
       }
      },
      "image/png": "[encoded data removed]",
      "text/plain": [
       "<VegaLite 4 object>\n",
       "\n",
       "If you see this message, it means the renderer has not been properly enabled\n",
       "for the frontend that you are using. For more information, see\n",
       "https://altair-viz.github.io/user_guide/troubleshooting.html\n"
      ]
     },
     "execution_count": 28,
     "metadata": {},
     "output_type": "execute_result"
    }
   ],
   "source": [
    "alt.Chart(train_df).mark_bar().encode(\n",
    "    alt.X('count()'),\n",
    "    alt.Y('critical_flag', title='Critical Flag'),\n",
    "    alt.Color('grade', scale=alt.Scale(scheme='dark2'))\n",
    ").facet('grade', columns=1)"
   ]
  },
  {
   "cell_type": "code",
   "execution_count": null,
   "id": "37772eb8-6066-498b-9b45-2249a7f70a95",
   "metadata": {},
   "outputs": [],
   "source": []
  }
 ],
 "metadata": {
  "kernelspec": {
   "display_name": "Python [conda env:571]",
   "language": "python",
   "name": "conda-env-571-py"
  },
  "language_info": {
   "codemirror_mode": {
    "name": "ipython",
    "version": 3
   },
   "file_extension": ".py",
   "mimetype": "text/x-python",
   "name": "python",
   "nbconvert_exporter": "python",
   "pygments_lexer": "ipython3",
   "version": "3.10.6"
  }
 },
 "nbformat": 4,
 "nbformat_minor": 5
}
