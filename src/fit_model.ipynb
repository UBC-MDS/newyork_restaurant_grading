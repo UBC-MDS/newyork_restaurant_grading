{
 "cells": [
  {
   "cell_type": "code",
   "execution_count": 1,
   "metadata": {},
   "outputs": [
    {
     "name": "stdout",
     "output_type": "stream",
     "text": [
      "Reading data from CSV files...\n",
      "Performing cross validations for dummy, logistic regression and svm classifier...\n",
      "dummy\n",
      "logreg\n",
      "svc\n",
      "{'dummy': {'fit_time': array([0.03045154, 0.02900195, 0.03071213, 0.026757  , 0.03199887]), 'score_time': array([0.0647788 , 0.0582881 , 0.0808363 , 0.05870295, 0.06330323]), 'test_score': array([0., 0., 0., 0., 0.]), 'train_score': array([0., 0., 0., 0., 0.])}, 'logreg': {'fit_time': array([5.17538857, 3.86554456, 5.58922744, 5.29286742, 5.9030838 ]), 'score_time': array([0.33374405, 0.39386106, 0.3995955 , 0.38831186, 0.38532209]), 'test_score': array([0.07939317, 0.07625826, 0.078125  , 0.08360614, 0.08437971]), 'train_score': array([0.0794987 , 0.07843137, 0.08441844, 0.08217279, 0.0876004 ])}}\n"
     ]
    }
   ],
   "source": [
    "# author: Nikita Susan Easow\n",
    "# date: 2022-11-24\n",
    "\n",
    "\"\"\"\n",
    "Takes the preprocessed training and test data and does cross validation with logistic regression and svm classifier - finds logistic regression to be the better model and does hyperparameter tuning to get the best hyperparameters. It then fits this trained model on the unseen data (test dataset).\n",
    "   \n",
    "Usage: src/fit_new_york_grading_prediction_model.py --train_data=<train_input_file> --test_data=<test_input_file> --output_dir=<output_directory>\n",
    "Options:\n",
    "--train_data=<train_input_file>       Path of the input file that contains the train data\n",
    "--test_data=<test_input_file>         Path of the input file that contains the test data\n",
    "--output_dir=<output_directory>       Path of the output file where results of the analysis will be stored \n",
    "Command to run the script:\n",
    "python src/fit_new_york_grading_prediction_model.py --train_data=\"./data/processed/train_df.csv\" --test_data=\"./data/processed/test_df.csv\" --output_dir=\"./results/\"\n",
    "\"\"\"\n",
    "\n",
    "# REFERENCE : code to plot PR curve referred from 573 lecture 1 notes\n",
    "\n",
    "from docopt import docopt\n",
    "import pandas as pd\n",
    "from sklearn.pipeline import make_pipeline\n",
    "from sklearn.linear_model import LogisticRegression\n",
    "from sklearn.metrics import f1_score\n",
    "from sklearn.metrics import make_scorer, recall_score, precision_score\n",
    "from sklearn.svm import SVC\n",
    "from sklearn.model_selection import RandomizedSearchCV\n",
    "from sklearn.utils.fixes import loguniform\n",
    "from scipy.stats import randint\n",
    "from sklearn.compose import make_column_transformer\n",
    "from sklearn.preprocessing import OneHotEncoder\n",
    "from sklearn.feature_extraction.text import CountVectorizer\n",
    "from sklearn.model_selection import cross_validate\n",
    "from sklearn.dummy import DummyClassifier\n",
    "import pickle\n",
    "import matplotlib.pyplot as plt\n",
    "from sklearn.metrics import precision_recall_curve\n",
    "import os\n",
    "\n",
    "# read train and test data from csv files\n",
    "\n",
    "print(\"Reading data from CSV files...\")\n",
    "train_df = pd.read_csv(\"../data/processed/train_df.csv\")\n",
    "test_df = pd.read_csv(\"../data/processed/test_df.csv\")\n",
    "\n",
    "# split features and target for train and test data\n",
    "\n",
    "X_train = train_df.drop(columns=[\"grade\"])\n",
    "y_train = train_df[\"grade\"]\n",
    "\n",
    "X_test = test_df.drop(columns=[\"grade\"])\n",
    "y_test = test_df[\"grade\"]\n",
    "\n",
    "# feature transformation\n",
    "# camis: dropped, these are unique identifiers\n",
    "# dba: dropped\n",
    "# boro: OHE on categorical variable \n",
    "# zipcode: OHE on categorical variable\n",
    "# cuisine_description: OHE on categorical variable\n",
    "# inspection_date: dropped, not relevant\n",
    "# action: OHE on categorical variable\n",
    "# violation_code: OHE on categorical variable\n",
    "# violation_description: text with CountVectorizer()\n",
    "# critical_flag: OHEon categorical variable\n",
    "# score: passthrough feature\n",
    "# inspection_type: dropped, not relevant - may introduce noise\n",
    "\n",
    "categorical_features = ['boro', 'zipcode', 'cuisine_description', 'action', 'violation_code', 'violation_description', 'critical_flag']\n",
    "passthrough_features = ['score']\n",
    "drop_features = ['camis', 'dba', 'inspection_date', 'inspection_type']\n",
    "text_features = 'violation_description'\n",
    "\n",
    "# column transformer\n",
    "preprocessor = make_column_transformer( \n",
    "    (\"passthrough\", passthrough_features),  \n",
    "    (OneHotEncoder(handle_unknown=\"ignore\", sparse=False, max_categories=20), categorical_features),  \n",
    "    (CountVectorizer(stop_words=\"english\", max_features=2000), text_features),\n",
    "    (\"drop\", drop_features)\n",
    ")\n",
    "\n",
    "# cross validations for dummy, logistic regression and svm classifier\n",
    "\n",
    "# Cross validation takes roughly 7 minutes\n",
    "\n",
    "print(\"Performing cross validations for dummy, logistic regression and svm classifier...\")\n",
    "cross_val_results = {}\n",
    "dc = DummyClassifier()\n",
    "print(\"dummy\")\n",
    "cross_val_results['dummy'] = cross_validate(dc, X_train, y_train, return_train_score=True, scoring=make_scorer(f1_score, pos_label='F'))\n",
    "pipe_lr = make_pipeline(preprocessor, LogisticRegression(random_state=123, max_iter=2000))\n",
    "print(\"logreg\")\n",
    "cross_val_results['logreg'] = cross_validate(pipe_lr, X_train, y_train, return_train_score=True, scoring=make_scorer(f1_score, pos_label='F'))\n",
    "pip_svc = make_pipeline(preprocessor, SVC(random_state=123))\n",
    "print(\"svc\")\n",
    "#cross_val_results['svc'] = cross_validate(pip_svc, X_train, y_train, return_train_score=True, scoring=make_scorer(f1_score, pos_label='F'))\n",
    "\n",
    "print(cross_val_results)"
   ]
  },
  {
   "cell_type": "code",
   "execution_count": 13,
   "metadata": {},
   "outputs": [],
   "source": [
    "cross_val_results['svc'] = cross_validate(pip_svc, X_train, y_train, return_train_score=True, scoring=make_scorer(f1_score, pos_label='F'))"
   ]
  },
  {
   "cell_type": "code",
   "execution_count": 2,
   "metadata": {},
   "outputs": [
    {
     "name": "stdout",
     "output_type": "stream",
     "text": [
      "Fitting the logistic regression model to train data because validation scores for LR is higher\n"
     ]
    },
    {
     "data": {
      "text/html": [
       "<style>#sk-container-id-1 {color: black;background-color: white;}#sk-container-id-1 pre{padding: 0;}#sk-container-id-1 div.sk-toggleable {background-color: white;}#sk-container-id-1 label.sk-toggleable__label {cursor: pointer;display: block;width: 100%;margin-bottom: 0;padding: 0.3em;box-sizing: border-box;text-align: center;}#sk-container-id-1 label.sk-toggleable__label-arrow:before {content: \"▸\";float: left;margin-right: 0.25em;color: #696969;}#sk-container-id-1 label.sk-toggleable__label-arrow:hover:before {color: black;}#sk-container-id-1 div.sk-estimator:hover label.sk-toggleable__label-arrow:before {color: black;}#sk-container-id-1 div.sk-toggleable__content {max-height: 0;max-width: 0;overflow: hidden;text-align: left;background-color: #f0f8ff;}#sk-container-id-1 div.sk-toggleable__content pre {margin: 0.2em;color: black;border-radius: 0.25em;background-color: #f0f8ff;}#sk-container-id-1 input.sk-toggleable__control:checked~div.sk-toggleable__content {max-height: 200px;max-width: 100%;overflow: auto;}#sk-container-id-1 input.sk-toggleable__control:checked~label.sk-toggleable__label-arrow:before {content: \"▾\";}#sk-container-id-1 div.sk-estimator input.sk-toggleable__control:checked~label.sk-toggleable__label {background-color: #d4ebff;}#sk-container-id-1 div.sk-label input.sk-toggleable__control:checked~label.sk-toggleable__label {background-color: #d4ebff;}#sk-container-id-1 input.sk-hidden--visually {border: 0;clip: rect(1px 1px 1px 1px);clip: rect(1px, 1px, 1px, 1px);height: 1px;margin: -1px;overflow: hidden;padding: 0;position: absolute;width: 1px;}#sk-container-id-1 div.sk-estimator {font-family: monospace;background-color: #f0f8ff;border: 1px dotted black;border-radius: 0.25em;box-sizing: border-box;margin-bottom: 0.5em;}#sk-container-id-1 div.sk-estimator:hover {background-color: #d4ebff;}#sk-container-id-1 div.sk-parallel-item::after {content: \"\";width: 100%;border-bottom: 1px solid gray;flex-grow: 1;}#sk-container-id-1 div.sk-label:hover label.sk-toggleable__label {background-color: #d4ebff;}#sk-container-id-1 div.sk-serial::before {content: \"\";position: absolute;border-left: 1px solid gray;box-sizing: border-box;top: 0;bottom: 0;left: 50%;z-index: 0;}#sk-container-id-1 div.sk-serial {display: flex;flex-direction: column;align-items: center;background-color: white;padding-right: 0.2em;padding-left: 0.2em;position: relative;}#sk-container-id-1 div.sk-item {position: relative;z-index: 1;}#sk-container-id-1 div.sk-parallel {display: flex;align-items: stretch;justify-content: center;background-color: white;position: relative;}#sk-container-id-1 div.sk-item::before, #sk-container-id-1 div.sk-parallel-item::before {content: \"\";position: absolute;border-left: 1px solid gray;box-sizing: border-box;top: 0;bottom: 0;left: 50%;z-index: -1;}#sk-container-id-1 div.sk-parallel-item {display: flex;flex-direction: column;z-index: 1;position: relative;background-color: white;}#sk-container-id-1 div.sk-parallel-item:first-child::after {align-self: flex-end;width: 50%;}#sk-container-id-1 div.sk-parallel-item:last-child::after {align-self: flex-start;width: 50%;}#sk-container-id-1 div.sk-parallel-item:only-child::after {width: 0;}#sk-container-id-1 div.sk-dashed-wrapped {border: 1px dashed gray;margin: 0 0.4em 0.5em 0.4em;box-sizing: border-box;padding-bottom: 0.4em;background-color: white;}#sk-container-id-1 div.sk-label label {font-family: monospace;font-weight: bold;display: inline-block;line-height: 1.2em;}#sk-container-id-1 div.sk-label-container {text-align: center;}#sk-container-id-1 div.sk-container {/* jupyter's `normalize.less` sets `[hidden] { display: none; }` but bootstrap.min.css set `[hidden] { display: none !important; }` so we also need the `!important` here to be able to override the default hidden behavior on the sphinx rendered scikit-learn.org. See: https://github.com/scikit-learn/scikit-learn/issues/21755 */display: inline-block !important;position: relative;}#sk-container-id-1 div.sk-text-repr-fallback {display: none;}</style><div id=\"sk-container-id-1\" class=\"sk-top-container\"><div class=\"sk-text-repr-fallback\"><pre>Pipeline(steps=[(&#x27;columntransformer&#x27;,\n",
       "                 ColumnTransformer(transformers=[(&#x27;onehotencoder&#x27;,\n",
       "                                                  OneHotEncoder(handle_unknown=&#x27;ignore&#x27;,\n",
       "                                                                max_categories=20,\n",
       "                                                                sparse=False),\n",
       "                                                  [&#x27;boro&#x27;, &#x27;zipcode&#x27;,\n",
       "                                                   &#x27;cuisine_description&#x27;,\n",
       "                                                   &#x27;action&#x27;, &#x27;violation_code&#x27;,\n",
       "                                                   &#x27;violation_description&#x27;,\n",
       "                                                   &#x27;critical_flag&#x27;]),\n",
       "                                                 (&#x27;countvectorizer&#x27;,\n",
       "                                                  CountVectorizer(max_features=2000,\n",
       "                                                                  stop_words=&#x27;english&#x27;),\n",
       "                                                  &#x27;violation_description&#x27;),\n",
       "                                                 (&#x27;drop&#x27;, &#x27;drop&#x27;,\n",
       "                                                  [&#x27;camis&#x27;, &#x27;dba&#x27;,\n",
       "                                                   &#x27;inspection_date&#x27;,\n",
       "                                                   &#x27;inspection_type&#x27;,\n",
       "                                                   &#x27;score&#x27;])])),\n",
       "                (&#x27;logisticregression&#x27;,\n",
       "                 LogisticRegression(max_iter=2000, random_state=123))])</pre><b>In a Jupyter environment, please rerun this cell to show the HTML representation or trust the notebook. <br />On GitHub, the HTML representation is unable to render, please try loading this page with nbviewer.org.</b></div><div class=\"sk-container\" hidden><div class=\"sk-item sk-dashed-wrapped\"><div class=\"sk-label-container\"><div class=\"sk-label sk-toggleable\"><input class=\"sk-toggleable__control sk-hidden--visually\" id=\"sk-estimator-id-1\" type=\"checkbox\" ><label for=\"sk-estimator-id-1\" class=\"sk-toggleable__label sk-toggleable__label-arrow\">Pipeline</label><div class=\"sk-toggleable__content\"><pre>Pipeline(steps=[(&#x27;columntransformer&#x27;,\n",
       "                 ColumnTransformer(transformers=[(&#x27;onehotencoder&#x27;,\n",
       "                                                  OneHotEncoder(handle_unknown=&#x27;ignore&#x27;,\n",
       "                                                                max_categories=20,\n",
       "                                                                sparse=False),\n",
       "                                                  [&#x27;boro&#x27;, &#x27;zipcode&#x27;,\n",
       "                                                   &#x27;cuisine_description&#x27;,\n",
       "                                                   &#x27;action&#x27;, &#x27;violation_code&#x27;,\n",
       "                                                   &#x27;violation_description&#x27;,\n",
       "                                                   &#x27;critical_flag&#x27;]),\n",
       "                                                 (&#x27;countvectorizer&#x27;,\n",
       "                                                  CountVectorizer(max_features=2000,\n",
       "                                                                  stop_words=&#x27;english&#x27;),\n",
       "                                                  &#x27;violation_description&#x27;),\n",
       "                                                 (&#x27;drop&#x27;, &#x27;drop&#x27;,\n",
       "                                                  [&#x27;camis&#x27;, &#x27;dba&#x27;,\n",
       "                                                   &#x27;inspection_date&#x27;,\n",
       "                                                   &#x27;inspection_type&#x27;,\n",
       "                                                   &#x27;score&#x27;])])),\n",
       "                (&#x27;logisticregression&#x27;,\n",
       "                 LogisticRegression(max_iter=2000, random_state=123))])</pre></div></div></div><div class=\"sk-serial\"><div class=\"sk-item sk-dashed-wrapped\"><div class=\"sk-label-container\"><div class=\"sk-label sk-toggleable\"><input class=\"sk-toggleable__control sk-hidden--visually\" id=\"sk-estimator-id-2\" type=\"checkbox\" ><label for=\"sk-estimator-id-2\" class=\"sk-toggleable__label sk-toggleable__label-arrow\">columntransformer: ColumnTransformer</label><div class=\"sk-toggleable__content\"><pre>ColumnTransformer(transformers=[(&#x27;onehotencoder&#x27;,\n",
       "                                 OneHotEncoder(handle_unknown=&#x27;ignore&#x27;,\n",
       "                                               max_categories=20,\n",
       "                                               sparse=False),\n",
       "                                 [&#x27;boro&#x27;, &#x27;zipcode&#x27;, &#x27;cuisine_description&#x27;,\n",
       "                                  &#x27;action&#x27;, &#x27;violation_code&#x27;,\n",
       "                                  &#x27;violation_description&#x27;, &#x27;critical_flag&#x27;]),\n",
       "                                (&#x27;countvectorizer&#x27;,\n",
       "                                 CountVectorizer(max_features=2000,\n",
       "                                                 stop_words=&#x27;english&#x27;),\n",
       "                                 &#x27;violation_description&#x27;),\n",
       "                                (&#x27;drop&#x27;, &#x27;drop&#x27;,\n",
       "                                 [&#x27;camis&#x27;, &#x27;dba&#x27;, &#x27;inspection_date&#x27;,\n",
       "                                  &#x27;inspection_type&#x27;, &#x27;score&#x27;])])</pre></div></div></div><div class=\"sk-parallel\"><div class=\"sk-parallel-item\"><div class=\"sk-item\"><div class=\"sk-label-container\"><div class=\"sk-label sk-toggleable\"><input class=\"sk-toggleable__control sk-hidden--visually\" id=\"sk-estimator-id-3\" type=\"checkbox\" ><label for=\"sk-estimator-id-3\" class=\"sk-toggleable__label sk-toggleable__label-arrow\">onehotencoder</label><div class=\"sk-toggleable__content\"><pre>[&#x27;boro&#x27;, &#x27;zipcode&#x27;, &#x27;cuisine_description&#x27;, &#x27;action&#x27;, &#x27;violation_code&#x27;, &#x27;violation_description&#x27;, &#x27;critical_flag&#x27;]</pre></div></div></div><div class=\"sk-serial\"><div class=\"sk-item\"><div class=\"sk-estimator sk-toggleable\"><input class=\"sk-toggleable__control sk-hidden--visually\" id=\"sk-estimator-id-4\" type=\"checkbox\" ><label for=\"sk-estimator-id-4\" class=\"sk-toggleable__label sk-toggleable__label-arrow\">OneHotEncoder</label><div class=\"sk-toggleable__content\"><pre>OneHotEncoder(handle_unknown=&#x27;ignore&#x27;, max_categories=20, sparse=False)</pre></div></div></div></div></div></div><div class=\"sk-parallel-item\"><div class=\"sk-item\"><div class=\"sk-label-container\"><div class=\"sk-label sk-toggleable\"><input class=\"sk-toggleable__control sk-hidden--visually\" id=\"sk-estimator-id-5\" type=\"checkbox\" ><label for=\"sk-estimator-id-5\" class=\"sk-toggleable__label sk-toggleable__label-arrow\">countvectorizer</label><div class=\"sk-toggleable__content\"><pre>violation_description</pre></div></div></div><div class=\"sk-serial\"><div class=\"sk-item\"><div class=\"sk-estimator sk-toggleable\"><input class=\"sk-toggleable__control sk-hidden--visually\" id=\"sk-estimator-id-6\" type=\"checkbox\" ><label for=\"sk-estimator-id-6\" class=\"sk-toggleable__label sk-toggleable__label-arrow\">CountVectorizer</label><div class=\"sk-toggleable__content\"><pre>CountVectorizer(max_features=2000, stop_words=&#x27;english&#x27;)</pre></div></div></div></div></div></div><div class=\"sk-parallel-item\"><div class=\"sk-item\"><div class=\"sk-label-container\"><div class=\"sk-label sk-toggleable\"><input class=\"sk-toggleable__control sk-hidden--visually\" id=\"sk-estimator-id-7\" type=\"checkbox\" ><label for=\"sk-estimator-id-7\" class=\"sk-toggleable__label sk-toggleable__label-arrow\">drop</label><div class=\"sk-toggleable__content\"><pre>[&#x27;camis&#x27;, &#x27;dba&#x27;, &#x27;inspection_date&#x27;, &#x27;inspection_type&#x27;, &#x27;score&#x27;]</pre></div></div></div><div class=\"sk-serial\"><div class=\"sk-item\"><div class=\"sk-estimator sk-toggleable\"><input class=\"sk-toggleable__control sk-hidden--visually\" id=\"sk-estimator-id-8\" type=\"checkbox\" ><label for=\"sk-estimator-id-8\" class=\"sk-toggleable__label sk-toggleable__label-arrow\">drop</label><div class=\"sk-toggleable__content\"><pre>drop</pre></div></div></div></div></div></div></div></div><div class=\"sk-item\"><div class=\"sk-estimator sk-toggleable\"><input class=\"sk-toggleable__control sk-hidden--visually\" id=\"sk-estimator-id-9\" type=\"checkbox\" ><label for=\"sk-estimator-id-9\" class=\"sk-toggleable__label sk-toggleable__label-arrow\">LogisticRegression</label><div class=\"sk-toggleable__content\"><pre>LogisticRegression(max_iter=2000, random_state=123)</pre></div></div></div></div></div></div></div>"
      ],
      "text/plain": [
       "Pipeline(steps=[('columntransformer',\n",
       "                 ColumnTransformer(transformers=[('onehotencoder',\n",
       "                                                  OneHotEncoder(handle_unknown='ignore',\n",
       "                                                                max_categories=20,\n",
       "                                                                sparse=False),\n",
       "                                                  ['boro', 'zipcode',\n",
       "                                                   'cuisine_description',\n",
       "                                                   'action', 'violation_code',\n",
       "                                                   'violation_description',\n",
       "                                                   'critical_flag']),\n",
       "                                                 ('countvectorizer',\n",
       "                                                  CountVectorizer(max_features=2000,\n",
       "                                                                  stop_words='english'),\n",
       "                                                  'violation_description'),\n",
       "                                                 ('drop', 'drop',\n",
       "                                                  ['camis', 'dba',\n",
       "                                                   'inspection_date',\n",
       "                                                   'inspection_type',\n",
       "                                                   'score'])])),\n",
       "                ('logisticregression',\n",
       "                 LogisticRegression(max_iter=2000, random_state=123))])"
      ]
     },
     "execution_count": 2,
     "metadata": {},
     "output_type": "execute_result"
    }
   ],
   "source": [
    "# fitting the logistic regression model to train data because validation scores for LR is higher\n",
    "print(\"Fitting the logistic regression model to train data because validation scores for LR is higher\")\n",
    "pipe_lr.fit(X_train, y_train)"
   ]
  },
  {
   "cell_type": "code",
   "execution_count": 3,
   "metadata": {},
   "outputs": [
    {
     "data": {
      "text/plain": [
       "335"
      ]
     },
     "execution_count": 3,
     "metadata": {},
     "output_type": "execute_result"
    }
   ],
   "source": [
    "# get total length of vocabulary in count vectorizer for 'violation_description' column\n",
    "len_vocab_1 = len(pipe_lr.named_steps[\"columntransformer\"].named_transformers_[\"countvectorizer\"].get_feature_names_out())\n",
    "len_vocab_1"
   ]
  },
  {
   "cell_type": "code",
   "execution_count": 4,
   "metadata": {},
   "outputs": [
    {
     "name": "stdout",
     "output_type": "stream",
     "text": [
      "\n",
      "Performing hyper parameter tuning for logistic regression model using randomizedsearchcv...\n",
      "Fitting the optimized model\n"
     ]
    },
    {
     "data": {
      "text/html": [
       "<style>#sk-container-id-2 {color: black;background-color: white;}#sk-container-id-2 pre{padding: 0;}#sk-container-id-2 div.sk-toggleable {background-color: white;}#sk-container-id-2 label.sk-toggleable__label {cursor: pointer;display: block;width: 100%;margin-bottom: 0;padding: 0.3em;box-sizing: border-box;text-align: center;}#sk-container-id-2 label.sk-toggleable__label-arrow:before {content: \"▸\";float: left;margin-right: 0.25em;color: #696969;}#sk-container-id-2 label.sk-toggleable__label-arrow:hover:before {color: black;}#sk-container-id-2 div.sk-estimator:hover label.sk-toggleable__label-arrow:before {color: black;}#sk-container-id-2 div.sk-toggleable__content {max-height: 0;max-width: 0;overflow: hidden;text-align: left;background-color: #f0f8ff;}#sk-container-id-2 div.sk-toggleable__content pre {margin: 0.2em;color: black;border-radius: 0.25em;background-color: #f0f8ff;}#sk-container-id-2 input.sk-toggleable__control:checked~div.sk-toggleable__content {max-height: 200px;max-width: 100%;overflow: auto;}#sk-container-id-2 input.sk-toggleable__control:checked~label.sk-toggleable__label-arrow:before {content: \"▾\";}#sk-container-id-2 div.sk-estimator input.sk-toggleable__control:checked~label.sk-toggleable__label {background-color: #d4ebff;}#sk-container-id-2 div.sk-label input.sk-toggleable__control:checked~label.sk-toggleable__label {background-color: #d4ebff;}#sk-container-id-2 input.sk-hidden--visually {border: 0;clip: rect(1px 1px 1px 1px);clip: rect(1px, 1px, 1px, 1px);height: 1px;margin: -1px;overflow: hidden;padding: 0;position: absolute;width: 1px;}#sk-container-id-2 div.sk-estimator {font-family: monospace;background-color: #f0f8ff;border: 1px dotted black;border-radius: 0.25em;box-sizing: border-box;margin-bottom: 0.5em;}#sk-container-id-2 div.sk-estimator:hover {background-color: #d4ebff;}#sk-container-id-2 div.sk-parallel-item::after {content: \"\";width: 100%;border-bottom: 1px solid gray;flex-grow: 1;}#sk-container-id-2 div.sk-label:hover label.sk-toggleable__label {background-color: #d4ebff;}#sk-container-id-2 div.sk-serial::before {content: \"\";position: absolute;border-left: 1px solid gray;box-sizing: border-box;top: 0;bottom: 0;left: 50%;z-index: 0;}#sk-container-id-2 div.sk-serial {display: flex;flex-direction: column;align-items: center;background-color: white;padding-right: 0.2em;padding-left: 0.2em;position: relative;}#sk-container-id-2 div.sk-item {position: relative;z-index: 1;}#sk-container-id-2 div.sk-parallel {display: flex;align-items: stretch;justify-content: center;background-color: white;position: relative;}#sk-container-id-2 div.sk-item::before, #sk-container-id-2 div.sk-parallel-item::before {content: \"\";position: absolute;border-left: 1px solid gray;box-sizing: border-box;top: 0;bottom: 0;left: 50%;z-index: -1;}#sk-container-id-2 div.sk-parallel-item {display: flex;flex-direction: column;z-index: 1;position: relative;background-color: white;}#sk-container-id-2 div.sk-parallel-item:first-child::after {align-self: flex-end;width: 50%;}#sk-container-id-2 div.sk-parallel-item:last-child::after {align-self: flex-start;width: 50%;}#sk-container-id-2 div.sk-parallel-item:only-child::after {width: 0;}#sk-container-id-2 div.sk-dashed-wrapped {border: 1px dashed gray;margin: 0 0.4em 0.5em 0.4em;box-sizing: border-box;padding-bottom: 0.4em;background-color: white;}#sk-container-id-2 div.sk-label label {font-family: monospace;font-weight: bold;display: inline-block;line-height: 1.2em;}#sk-container-id-2 div.sk-label-container {text-align: center;}#sk-container-id-2 div.sk-container {/* jupyter's `normalize.less` sets `[hidden] { display: none; }` but bootstrap.min.css set `[hidden] { display: none !important; }` so we also need the `!important` here to be able to override the default hidden behavior on the sphinx rendered scikit-learn.org. See: https://github.com/scikit-learn/scikit-learn/issues/21755 */display: inline-block !important;position: relative;}#sk-container-id-2 div.sk-text-repr-fallback {display: none;}</style><div id=\"sk-container-id-2\" class=\"sk-top-container\"><div class=\"sk-text-repr-fallback\"><pre>RandomizedSearchCV(estimator=Pipeline(steps=[(&#x27;columntransformer&#x27;,\n",
       "                                              ColumnTransformer(transformers=[(&#x27;onehotencoder&#x27;,\n",
       "                                                                               OneHotEncoder(handle_unknown=&#x27;ignore&#x27;,\n",
       "                                                                                             max_categories=20,\n",
       "                                                                                             sparse=False),\n",
       "                                                                               [&#x27;boro&#x27;,\n",
       "                                                                                &#x27;zipcode&#x27;,\n",
       "                                                                                &#x27;cuisine_description&#x27;,\n",
       "                                                                                &#x27;action&#x27;,\n",
       "                                                                                &#x27;violation_code&#x27;,\n",
       "                                                                                &#x27;violation_description&#x27;,\n",
       "                                                                                &#x27;critical_flag&#x27;]),\n",
       "                                                                              (&#x27;countvectorizer&#x27;,\n",
       "                                                                               CountVectorizer(max_features=2000,\n",
       "                                                                                               stop...\n",
       "                   param_distributions={&#x27;columntransformer__countvectorizer__max_features&#x27;: &lt;scipy.stats._distn_infrastructure.rv_discrete_frozen object at 0x0000018E939AC0D0&gt;,\n",
       "                                        &#x27;logisticregression__C&#x27;: &lt;scipy.stats._distn_infrastructure.rv_continuous_frozen object at 0x0000018E93D73390&gt;,\n",
       "                                        &#x27;logisticregression__class_weight&#x27;: [&#x27;balanced&#x27;,\n",
       "                                                                             None],\n",
       "                                        &#x27;logisticregression__solver&#x27;: [&#x27;sag&#x27;]},\n",
       "                   return_train_score=True,\n",
       "                   scoring=make_scorer(f1_score, pos_label=F))</pre><b>In a Jupyter environment, please rerun this cell to show the HTML representation or trust the notebook. <br />On GitHub, the HTML representation is unable to render, please try loading this page with nbviewer.org.</b></div><div class=\"sk-container\" hidden><div class=\"sk-item sk-dashed-wrapped\"><div class=\"sk-label-container\"><div class=\"sk-label sk-toggleable\"><input class=\"sk-toggleable__control sk-hidden--visually\" id=\"sk-estimator-id-10\" type=\"checkbox\" ><label for=\"sk-estimator-id-10\" class=\"sk-toggleable__label sk-toggleable__label-arrow\">RandomizedSearchCV</label><div class=\"sk-toggleable__content\"><pre>RandomizedSearchCV(estimator=Pipeline(steps=[(&#x27;columntransformer&#x27;,\n",
       "                                              ColumnTransformer(transformers=[(&#x27;onehotencoder&#x27;,\n",
       "                                                                               OneHotEncoder(handle_unknown=&#x27;ignore&#x27;,\n",
       "                                                                                             max_categories=20,\n",
       "                                                                                             sparse=False),\n",
       "                                                                               [&#x27;boro&#x27;,\n",
       "                                                                                &#x27;zipcode&#x27;,\n",
       "                                                                                &#x27;cuisine_description&#x27;,\n",
       "                                                                                &#x27;action&#x27;,\n",
       "                                                                                &#x27;violation_code&#x27;,\n",
       "                                                                                &#x27;violation_description&#x27;,\n",
       "                                                                                &#x27;critical_flag&#x27;]),\n",
       "                                                                              (&#x27;countvectorizer&#x27;,\n",
       "                                                                               CountVectorizer(max_features=2000,\n",
       "                                                                                               stop...\n",
       "                   param_distributions={&#x27;columntransformer__countvectorizer__max_features&#x27;: &lt;scipy.stats._distn_infrastructure.rv_discrete_frozen object at 0x0000018E939AC0D0&gt;,\n",
       "                                        &#x27;logisticregression__C&#x27;: &lt;scipy.stats._distn_infrastructure.rv_continuous_frozen object at 0x0000018E93D73390&gt;,\n",
       "                                        &#x27;logisticregression__class_weight&#x27;: [&#x27;balanced&#x27;,\n",
       "                                                                             None],\n",
       "                                        &#x27;logisticregression__solver&#x27;: [&#x27;sag&#x27;]},\n",
       "                   return_train_score=True,\n",
       "                   scoring=make_scorer(f1_score, pos_label=F))</pre></div></div></div><div class=\"sk-parallel\"><div class=\"sk-parallel-item\"><div class=\"sk-item\"><div class=\"sk-label-container\"><div class=\"sk-label sk-toggleable\"><input class=\"sk-toggleable__control sk-hidden--visually\" id=\"sk-estimator-id-11\" type=\"checkbox\" ><label for=\"sk-estimator-id-11\" class=\"sk-toggleable__label sk-toggleable__label-arrow\">estimator: Pipeline</label><div class=\"sk-toggleable__content\"><pre>Pipeline(steps=[(&#x27;columntransformer&#x27;,\n",
       "                 ColumnTransformer(transformers=[(&#x27;onehotencoder&#x27;,\n",
       "                                                  OneHotEncoder(handle_unknown=&#x27;ignore&#x27;,\n",
       "                                                                max_categories=20,\n",
       "                                                                sparse=False),\n",
       "                                                  [&#x27;boro&#x27;, &#x27;zipcode&#x27;,\n",
       "                                                   &#x27;cuisine_description&#x27;,\n",
       "                                                   &#x27;action&#x27;, &#x27;violation_code&#x27;,\n",
       "                                                   &#x27;violation_description&#x27;,\n",
       "                                                   &#x27;critical_flag&#x27;]),\n",
       "                                                 (&#x27;countvectorizer&#x27;,\n",
       "                                                  CountVectorizer(max_features=2000,\n",
       "                                                                  stop_words=&#x27;english&#x27;),\n",
       "                                                  &#x27;violation_description&#x27;),\n",
       "                                                 (&#x27;drop&#x27;, &#x27;drop&#x27;,\n",
       "                                                  [&#x27;camis&#x27;, &#x27;dba&#x27;,\n",
       "                                                   &#x27;inspection_date&#x27;,\n",
       "                                                   &#x27;inspection_type&#x27;,\n",
       "                                                   &#x27;score&#x27;])])),\n",
       "                (&#x27;logisticregression&#x27;,\n",
       "                 LogisticRegression(max_iter=2000, random_state=123))])</pre></div></div></div><div class=\"sk-serial\"><div class=\"sk-item\"><div class=\"sk-serial\"><div class=\"sk-item sk-dashed-wrapped\"><div class=\"sk-label-container\"><div class=\"sk-label sk-toggleable\"><input class=\"sk-toggleable__control sk-hidden--visually\" id=\"sk-estimator-id-12\" type=\"checkbox\" ><label for=\"sk-estimator-id-12\" class=\"sk-toggleable__label sk-toggleable__label-arrow\">columntransformer: ColumnTransformer</label><div class=\"sk-toggleable__content\"><pre>ColumnTransformer(transformers=[(&#x27;onehotencoder&#x27;,\n",
       "                                 OneHotEncoder(handle_unknown=&#x27;ignore&#x27;,\n",
       "                                               max_categories=20,\n",
       "                                               sparse=False),\n",
       "                                 [&#x27;boro&#x27;, &#x27;zipcode&#x27;, &#x27;cuisine_description&#x27;,\n",
       "                                  &#x27;action&#x27;, &#x27;violation_code&#x27;,\n",
       "                                  &#x27;violation_description&#x27;, &#x27;critical_flag&#x27;]),\n",
       "                                (&#x27;countvectorizer&#x27;,\n",
       "                                 CountVectorizer(max_features=2000,\n",
       "                                                 stop_words=&#x27;english&#x27;),\n",
       "                                 &#x27;violation_description&#x27;),\n",
       "                                (&#x27;drop&#x27;, &#x27;drop&#x27;,\n",
       "                                 [&#x27;camis&#x27;, &#x27;dba&#x27;, &#x27;inspection_date&#x27;,\n",
       "                                  &#x27;inspection_type&#x27;, &#x27;score&#x27;])])</pre></div></div></div><div class=\"sk-parallel\"><div class=\"sk-parallel-item\"><div class=\"sk-item\"><div class=\"sk-label-container\"><div class=\"sk-label sk-toggleable\"><input class=\"sk-toggleable__control sk-hidden--visually\" id=\"sk-estimator-id-13\" type=\"checkbox\" ><label for=\"sk-estimator-id-13\" class=\"sk-toggleable__label sk-toggleable__label-arrow\">onehotencoder</label><div class=\"sk-toggleable__content\"><pre>[&#x27;boro&#x27;, &#x27;zipcode&#x27;, &#x27;cuisine_description&#x27;, &#x27;action&#x27;, &#x27;violation_code&#x27;, &#x27;violation_description&#x27;, &#x27;critical_flag&#x27;]</pre></div></div></div><div class=\"sk-serial\"><div class=\"sk-item\"><div class=\"sk-estimator sk-toggleable\"><input class=\"sk-toggleable__control sk-hidden--visually\" id=\"sk-estimator-id-14\" type=\"checkbox\" ><label for=\"sk-estimator-id-14\" class=\"sk-toggleable__label sk-toggleable__label-arrow\">OneHotEncoder</label><div class=\"sk-toggleable__content\"><pre>OneHotEncoder(handle_unknown=&#x27;ignore&#x27;, max_categories=20, sparse=False)</pre></div></div></div></div></div></div><div class=\"sk-parallel-item\"><div class=\"sk-item\"><div class=\"sk-label-container\"><div class=\"sk-label sk-toggleable\"><input class=\"sk-toggleable__control sk-hidden--visually\" id=\"sk-estimator-id-15\" type=\"checkbox\" ><label for=\"sk-estimator-id-15\" class=\"sk-toggleable__label sk-toggleable__label-arrow\">countvectorizer</label><div class=\"sk-toggleable__content\"><pre>violation_description</pre></div></div></div><div class=\"sk-serial\"><div class=\"sk-item\"><div class=\"sk-estimator sk-toggleable\"><input class=\"sk-toggleable__control sk-hidden--visually\" id=\"sk-estimator-id-16\" type=\"checkbox\" ><label for=\"sk-estimator-id-16\" class=\"sk-toggleable__label sk-toggleable__label-arrow\">CountVectorizer</label><div class=\"sk-toggleable__content\"><pre>CountVectorizer(max_features=2000, stop_words=&#x27;english&#x27;)</pre></div></div></div></div></div></div><div class=\"sk-parallel-item\"><div class=\"sk-item\"><div class=\"sk-label-container\"><div class=\"sk-label sk-toggleable\"><input class=\"sk-toggleable__control sk-hidden--visually\" id=\"sk-estimator-id-17\" type=\"checkbox\" ><label for=\"sk-estimator-id-17\" class=\"sk-toggleable__label sk-toggleable__label-arrow\">drop</label><div class=\"sk-toggleable__content\"><pre>[&#x27;camis&#x27;, &#x27;dba&#x27;, &#x27;inspection_date&#x27;, &#x27;inspection_type&#x27;, &#x27;score&#x27;]</pre></div></div></div><div class=\"sk-serial\"><div class=\"sk-item\"><div class=\"sk-estimator sk-toggleable\"><input class=\"sk-toggleable__control sk-hidden--visually\" id=\"sk-estimator-id-18\" type=\"checkbox\" ><label for=\"sk-estimator-id-18\" class=\"sk-toggleable__label sk-toggleable__label-arrow\">drop</label><div class=\"sk-toggleable__content\"><pre>drop</pre></div></div></div></div></div></div></div></div><div class=\"sk-item\"><div class=\"sk-estimator sk-toggleable\"><input class=\"sk-toggleable__control sk-hidden--visually\" id=\"sk-estimator-id-19\" type=\"checkbox\" ><label for=\"sk-estimator-id-19\" class=\"sk-toggleable__label sk-toggleable__label-arrow\">LogisticRegression</label><div class=\"sk-toggleable__content\"><pre>LogisticRegression(max_iter=2000, random_state=123)</pre></div></div></div></div></div></div></div></div></div></div></div></div>"
      ],
      "text/plain": [
       "RandomizedSearchCV(estimator=Pipeline(steps=[('columntransformer',\n",
       "                                              ColumnTransformer(transformers=[('onehotencoder',\n",
       "                                                                               OneHotEncoder(handle_unknown='ignore',\n",
       "                                                                                             max_categories=20,\n",
       "                                                                                             sparse=False),\n",
       "                                                                               ['boro',\n",
       "                                                                                'zipcode',\n",
       "                                                                                'cuisine_description',\n",
       "                                                                                'action',\n",
       "                                                                                'violation_code',\n",
       "                                                                                'violation_description',\n",
       "                                                                                'critical_flag']),\n",
       "                                                                              ('countvectorizer',\n",
       "                                                                               CountVectorizer(max_features=2000,\n",
       "                                                                                               stop...\n",
       "                   param_distributions={'columntransformer__countvectorizer__max_features': <scipy.stats._distn_infrastructure.rv_discrete_frozen object at 0x0000018E939AC0D0>,\n",
       "                                        'logisticregression__C': <scipy.stats._distn_infrastructure.rv_continuous_frozen object at 0x0000018E93D73390>,\n",
       "                                        'logisticregression__class_weight': ['balanced',\n",
       "                                                                             None],\n",
       "                                        'logisticregression__solver': ['sag']},\n",
       "                   return_train_score=True,\n",
       "                   scoring=make_scorer(f1_score, pos_label=F))"
      ]
     },
     "execution_count": 4,
     "metadata": {},
     "output_type": "execute_result"
    }
   ],
   "source": [
    "\n",
    "# hyper parameter tuning for logistic regression model using randomizedsearchcv\n",
    "\n",
    "# hyper parameter optimization may take upto 15 minutes\n",
    "\n",
    "print(\"\\nPerforming hyper parameter tuning for logistic regression model using randomizedsearchcv...\")\n",
    "param_dist = {'logisticregression__C': loguniform(1e-3, 1e3),\n",
    "'columntransformer__countvectorizer__max_features': randint(1, len_vocab_1),\n",
    "'logisticregression__class_weight':['balanced', None],\n",
    "\"logisticregression__solver\" : [\"sag\"]}\n",
    "random_search = RandomizedSearchCV(pipe_lr, param_dist, n_iter=10, n_jobs=-1, return_train_score=True, scoring=make_scorer(f1_score, pos_label='F'))\n",
    "print(\"Fitting the optimized model\")\n",
    "random_search.fit(X_train, y_train)"
   ]
  },
  {
   "cell_type": "code",
   "execution_count": 5,
   "metadata": {},
   "outputs": [
    {
     "data": {
      "text/plain": [
       "{'columntransformer__countvectorizer__max_features': 80,\n",
       " 'logisticregression__C': 0.6930605534498594,\n",
       " 'logisticregression__class_weight': 'balanced',\n",
       " 'logisticregression__solver': 'sag'}"
      ]
     },
     "execution_count": 5,
     "metadata": {},
     "output_type": "execute_result"
    }
   ],
   "source": [
    "random_search.best_params_"
   ]
  },
  {
   "cell_type": "code",
   "execution_count": 6,
   "metadata": {},
   "outputs": [
    {
     "name": "stdout",
     "output_type": "stream",
     "text": [
      "Best parameters found to be:  {'columntransformer__countvectorizer__max_features': 80, 'logisticregression__C': 0.6930605534498594, 'logisticregression__class_weight': 'balanced', 'logisticregression__solver': 'sag'}\n",
      "\n",
      "Doing cross validation using the best parameters...\n"
     ]
    }
   ],
   "source": [
    "# obtaining the best parameters\n",
    "best_parameters = random_search.best_params_\n",
    "\n",
    "print(\"Best parameters found to be: \", best_parameters)\n",
    "\n",
    "# transform data using parameters found from randomized cross validation\n",
    "preprocessor = make_column_transformer( \n",
    "    #(\"passthrough\", passthrough_features),  \n",
    "    (OneHotEncoder(handle_unknown=\"ignore\", sparse=False, max_categories=20), categorical_features),  \n",
    "    (CountVectorizer(max_features=best_parameters[\"columntransformer__countvectorizer__max_features\"], stop_words=\"english\"), text_features),\n",
    "    (\"drop\", drop_features)\n",
    ")\n",
    "pipe_lr_best = make_pipeline(preprocessor, LogisticRegression(C=best_parameters[\"logisticregression__C\"], class_weight=best_parameters[\"logisticregression__class_weight\"], random_state=123, max_iter=2500, solver='sag'))\n",
    "\n",
    "# cross validation on the best logistic regression model\n",
    "\n",
    "print(\"\\nDoing cross validation using the best parameters...\")\n",
    "cross_val_results['logreg_best'] = cross_validate(pipe_lr_best, X_train, y_train, return_train_score=True, scoring=make_scorer(f1_score, pos_label='F'))\n"
   ]
  },
  {
   "cell_type": "code",
   "execution_count": 7,
   "metadata": {},
   "outputs": [
    {
     "data": {
      "text/html": [
       "<div>\n",
       "<style scoped>\n",
       "    .dataframe tbody tr th:only-of-type {\n",
       "        vertical-align: middle;\n",
       "    }\n",
       "\n",
       "    .dataframe tbody tr th {\n",
       "        vertical-align: top;\n",
       "    }\n",
       "\n",
       "    .dataframe thead th {\n",
       "        text-align: right;\n",
       "    }\n",
       "</style>\n",
       "<table border=\"1\" class=\"dataframe\">\n",
       "  <thead>\n",
       "    <tr style=\"text-align: right;\">\n",
       "      <th></th>\n",
       "      <th>dummy</th>\n",
       "      <th>logreg</th>\n",
       "      <th>logreg_best</th>\n",
       "    </tr>\n",
       "  </thead>\n",
       "  <tbody>\n",
       "    <tr>\n",
       "      <th>fit_time</th>\n",
       "      <td>0.029784</td>\n",
       "      <td>5.165222</td>\n",
       "      <td>28.019613</td>\n",
       "    </tr>\n",
       "    <tr>\n",
       "      <th>score_time</th>\n",
       "      <td>0.065182</td>\n",
       "      <td>0.380167</td>\n",
       "      <td>0.370610</td>\n",
       "    </tr>\n",
       "    <tr>\n",
       "      <th>test_score</th>\n",
       "      <td>0.000000</td>\n",
       "      <td>0.080352</td>\n",
       "      <td>0.412610</td>\n",
       "    </tr>\n",
       "    <tr>\n",
       "      <th>train_score</th>\n",
       "      <td>0.000000</td>\n",
       "      <td>0.082424</td>\n",
       "      <td>0.413664</td>\n",
       "    </tr>\n",
       "  </tbody>\n",
       "</table>\n",
       "</div>"
      ],
      "text/plain": [
       "                dummy    logreg  logreg_best\n",
       "fit_time     0.029784  5.165222    28.019613\n",
       "score_time   0.065182  0.380167     0.370610\n",
       "test_score   0.000000  0.080352     0.412610\n",
       "train_score  0.000000  0.082424     0.413664"
      ]
     },
     "execution_count": 7,
     "metadata": {},
     "output_type": "execute_result"
    }
   ],
   "source": [
    "for i, j in cross_val_results.items():\n",
    "    for l,m in j.items():\n",
    "        j[l] = m.mean()\n",
    "final_cross_val_results = pd.DataFrame(cross_val_results)\n",
    "final_cross_val_results"
   ]
  },
  {
   "cell_type": "code",
   "execution_count": 8,
   "metadata": {},
   "outputs": [
    {
     "name": "stdout",
     "output_type": "stream",
     "text": [
      "\n",
      "Fitting the best model on training data...\n"
     ]
    },
    {
     "data": {
      "text/html": [
       "<style>#sk-container-id-3 {color: black;background-color: white;}#sk-container-id-3 pre{padding: 0;}#sk-container-id-3 div.sk-toggleable {background-color: white;}#sk-container-id-3 label.sk-toggleable__label {cursor: pointer;display: block;width: 100%;margin-bottom: 0;padding: 0.3em;box-sizing: border-box;text-align: center;}#sk-container-id-3 label.sk-toggleable__label-arrow:before {content: \"▸\";float: left;margin-right: 0.25em;color: #696969;}#sk-container-id-3 label.sk-toggleable__label-arrow:hover:before {color: black;}#sk-container-id-3 div.sk-estimator:hover label.sk-toggleable__label-arrow:before {color: black;}#sk-container-id-3 div.sk-toggleable__content {max-height: 0;max-width: 0;overflow: hidden;text-align: left;background-color: #f0f8ff;}#sk-container-id-3 div.sk-toggleable__content pre {margin: 0.2em;color: black;border-radius: 0.25em;background-color: #f0f8ff;}#sk-container-id-3 input.sk-toggleable__control:checked~div.sk-toggleable__content {max-height: 200px;max-width: 100%;overflow: auto;}#sk-container-id-3 input.sk-toggleable__control:checked~label.sk-toggleable__label-arrow:before {content: \"▾\";}#sk-container-id-3 div.sk-estimator input.sk-toggleable__control:checked~label.sk-toggleable__label {background-color: #d4ebff;}#sk-container-id-3 div.sk-label input.sk-toggleable__control:checked~label.sk-toggleable__label {background-color: #d4ebff;}#sk-container-id-3 input.sk-hidden--visually {border: 0;clip: rect(1px 1px 1px 1px);clip: rect(1px, 1px, 1px, 1px);height: 1px;margin: -1px;overflow: hidden;padding: 0;position: absolute;width: 1px;}#sk-container-id-3 div.sk-estimator {font-family: monospace;background-color: #f0f8ff;border: 1px dotted black;border-radius: 0.25em;box-sizing: border-box;margin-bottom: 0.5em;}#sk-container-id-3 div.sk-estimator:hover {background-color: #d4ebff;}#sk-container-id-3 div.sk-parallel-item::after {content: \"\";width: 100%;border-bottom: 1px solid gray;flex-grow: 1;}#sk-container-id-3 div.sk-label:hover label.sk-toggleable__label {background-color: #d4ebff;}#sk-container-id-3 div.sk-serial::before {content: \"\";position: absolute;border-left: 1px solid gray;box-sizing: border-box;top: 0;bottom: 0;left: 50%;z-index: 0;}#sk-container-id-3 div.sk-serial {display: flex;flex-direction: column;align-items: center;background-color: white;padding-right: 0.2em;padding-left: 0.2em;position: relative;}#sk-container-id-3 div.sk-item {position: relative;z-index: 1;}#sk-container-id-3 div.sk-parallel {display: flex;align-items: stretch;justify-content: center;background-color: white;position: relative;}#sk-container-id-3 div.sk-item::before, #sk-container-id-3 div.sk-parallel-item::before {content: \"\";position: absolute;border-left: 1px solid gray;box-sizing: border-box;top: 0;bottom: 0;left: 50%;z-index: -1;}#sk-container-id-3 div.sk-parallel-item {display: flex;flex-direction: column;z-index: 1;position: relative;background-color: white;}#sk-container-id-3 div.sk-parallel-item:first-child::after {align-self: flex-end;width: 50%;}#sk-container-id-3 div.sk-parallel-item:last-child::after {align-self: flex-start;width: 50%;}#sk-container-id-3 div.sk-parallel-item:only-child::after {width: 0;}#sk-container-id-3 div.sk-dashed-wrapped {border: 1px dashed gray;margin: 0 0.4em 0.5em 0.4em;box-sizing: border-box;padding-bottom: 0.4em;background-color: white;}#sk-container-id-3 div.sk-label label {font-family: monospace;font-weight: bold;display: inline-block;line-height: 1.2em;}#sk-container-id-3 div.sk-label-container {text-align: center;}#sk-container-id-3 div.sk-container {/* jupyter's `normalize.less` sets `[hidden] { display: none; }` but bootstrap.min.css set `[hidden] { display: none !important; }` so we also need the `!important` here to be able to override the default hidden behavior on the sphinx rendered scikit-learn.org. See: https://github.com/scikit-learn/scikit-learn/issues/21755 */display: inline-block !important;position: relative;}#sk-container-id-3 div.sk-text-repr-fallback {display: none;}</style><div id=\"sk-container-id-3\" class=\"sk-top-container\"><div class=\"sk-text-repr-fallback\"><pre>Pipeline(steps=[(&#x27;columntransformer&#x27;,\n",
       "                 ColumnTransformer(transformers=[(&#x27;onehotencoder&#x27;,\n",
       "                                                  OneHotEncoder(handle_unknown=&#x27;ignore&#x27;,\n",
       "                                                                max_categories=20,\n",
       "                                                                sparse=False),\n",
       "                                                  [&#x27;boro&#x27;, &#x27;zipcode&#x27;,\n",
       "                                                   &#x27;cuisine_description&#x27;,\n",
       "                                                   &#x27;action&#x27;, &#x27;violation_code&#x27;,\n",
       "                                                   &#x27;violation_description&#x27;,\n",
       "                                                   &#x27;critical_flag&#x27;]),\n",
       "                                                 (&#x27;countvectorizer&#x27;,\n",
       "                                                  CountVectorizer(max_features=80,\n",
       "                                                                  stop_words=&#x27;english&#x27;),\n",
       "                                                  &#x27;violation_description&#x27;),\n",
       "                                                 (&#x27;drop&#x27;, &#x27;drop&#x27;,\n",
       "                                                  [&#x27;camis&#x27;, &#x27;dba&#x27;,\n",
       "                                                   &#x27;inspection_date&#x27;,\n",
       "                                                   &#x27;inspection_type&#x27;,\n",
       "                                                   &#x27;score&#x27;])])),\n",
       "                (&#x27;logisticregression&#x27;,\n",
       "                 LogisticRegression(C=0.6930605534498594,\n",
       "                                    class_weight=&#x27;balanced&#x27;, max_iter=2500,\n",
       "                                    random_state=123, solver=&#x27;sag&#x27;))])</pre><b>In a Jupyter environment, please rerun this cell to show the HTML representation or trust the notebook. <br />On GitHub, the HTML representation is unable to render, please try loading this page with nbviewer.org.</b></div><div class=\"sk-container\" hidden><div class=\"sk-item sk-dashed-wrapped\"><div class=\"sk-label-container\"><div class=\"sk-label sk-toggleable\"><input class=\"sk-toggleable__control sk-hidden--visually\" id=\"sk-estimator-id-20\" type=\"checkbox\" ><label for=\"sk-estimator-id-20\" class=\"sk-toggleable__label sk-toggleable__label-arrow\">Pipeline</label><div class=\"sk-toggleable__content\"><pre>Pipeline(steps=[(&#x27;columntransformer&#x27;,\n",
       "                 ColumnTransformer(transformers=[(&#x27;onehotencoder&#x27;,\n",
       "                                                  OneHotEncoder(handle_unknown=&#x27;ignore&#x27;,\n",
       "                                                                max_categories=20,\n",
       "                                                                sparse=False),\n",
       "                                                  [&#x27;boro&#x27;, &#x27;zipcode&#x27;,\n",
       "                                                   &#x27;cuisine_description&#x27;,\n",
       "                                                   &#x27;action&#x27;, &#x27;violation_code&#x27;,\n",
       "                                                   &#x27;violation_description&#x27;,\n",
       "                                                   &#x27;critical_flag&#x27;]),\n",
       "                                                 (&#x27;countvectorizer&#x27;,\n",
       "                                                  CountVectorizer(max_features=80,\n",
       "                                                                  stop_words=&#x27;english&#x27;),\n",
       "                                                  &#x27;violation_description&#x27;),\n",
       "                                                 (&#x27;drop&#x27;, &#x27;drop&#x27;,\n",
       "                                                  [&#x27;camis&#x27;, &#x27;dba&#x27;,\n",
       "                                                   &#x27;inspection_date&#x27;,\n",
       "                                                   &#x27;inspection_type&#x27;,\n",
       "                                                   &#x27;score&#x27;])])),\n",
       "                (&#x27;logisticregression&#x27;,\n",
       "                 LogisticRegression(C=0.6930605534498594,\n",
       "                                    class_weight=&#x27;balanced&#x27;, max_iter=2500,\n",
       "                                    random_state=123, solver=&#x27;sag&#x27;))])</pre></div></div></div><div class=\"sk-serial\"><div class=\"sk-item sk-dashed-wrapped\"><div class=\"sk-label-container\"><div class=\"sk-label sk-toggleable\"><input class=\"sk-toggleable__control sk-hidden--visually\" id=\"sk-estimator-id-21\" type=\"checkbox\" ><label for=\"sk-estimator-id-21\" class=\"sk-toggleable__label sk-toggleable__label-arrow\">columntransformer: ColumnTransformer</label><div class=\"sk-toggleable__content\"><pre>ColumnTransformer(transformers=[(&#x27;onehotencoder&#x27;,\n",
       "                                 OneHotEncoder(handle_unknown=&#x27;ignore&#x27;,\n",
       "                                               max_categories=20,\n",
       "                                               sparse=False),\n",
       "                                 [&#x27;boro&#x27;, &#x27;zipcode&#x27;, &#x27;cuisine_description&#x27;,\n",
       "                                  &#x27;action&#x27;, &#x27;violation_code&#x27;,\n",
       "                                  &#x27;violation_description&#x27;, &#x27;critical_flag&#x27;]),\n",
       "                                (&#x27;countvectorizer&#x27;,\n",
       "                                 CountVectorizer(max_features=80,\n",
       "                                                 stop_words=&#x27;english&#x27;),\n",
       "                                 &#x27;violation_description&#x27;),\n",
       "                                (&#x27;drop&#x27;, &#x27;drop&#x27;,\n",
       "                                 [&#x27;camis&#x27;, &#x27;dba&#x27;, &#x27;inspection_date&#x27;,\n",
       "                                  &#x27;inspection_type&#x27;, &#x27;score&#x27;])])</pre></div></div></div><div class=\"sk-parallel\"><div class=\"sk-parallel-item\"><div class=\"sk-item\"><div class=\"sk-label-container\"><div class=\"sk-label sk-toggleable\"><input class=\"sk-toggleable__control sk-hidden--visually\" id=\"sk-estimator-id-22\" type=\"checkbox\" ><label for=\"sk-estimator-id-22\" class=\"sk-toggleable__label sk-toggleable__label-arrow\">onehotencoder</label><div class=\"sk-toggleable__content\"><pre>[&#x27;boro&#x27;, &#x27;zipcode&#x27;, &#x27;cuisine_description&#x27;, &#x27;action&#x27;, &#x27;violation_code&#x27;, &#x27;violation_description&#x27;, &#x27;critical_flag&#x27;]</pre></div></div></div><div class=\"sk-serial\"><div class=\"sk-item\"><div class=\"sk-estimator sk-toggleable\"><input class=\"sk-toggleable__control sk-hidden--visually\" id=\"sk-estimator-id-23\" type=\"checkbox\" ><label for=\"sk-estimator-id-23\" class=\"sk-toggleable__label sk-toggleable__label-arrow\">OneHotEncoder</label><div class=\"sk-toggleable__content\"><pre>OneHotEncoder(handle_unknown=&#x27;ignore&#x27;, max_categories=20, sparse=False)</pre></div></div></div></div></div></div><div class=\"sk-parallel-item\"><div class=\"sk-item\"><div class=\"sk-label-container\"><div class=\"sk-label sk-toggleable\"><input class=\"sk-toggleable__control sk-hidden--visually\" id=\"sk-estimator-id-24\" type=\"checkbox\" ><label for=\"sk-estimator-id-24\" class=\"sk-toggleable__label sk-toggleable__label-arrow\">countvectorizer</label><div class=\"sk-toggleable__content\"><pre>violation_description</pre></div></div></div><div class=\"sk-serial\"><div class=\"sk-item\"><div class=\"sk-estimator sk-toggleable\"><input class=\"sk-toggleable__control sk-hidden--visually\" id=\"sk-estimator-id-25\" type=\"checkbox\" ><label for=\"sk-estimator-id-25\" class=\"sk-toggleable__label sk-toggleable__label-arrow\">CountVectorizer</label><div class=\"sk-toggleable__content\"><pre>CountVectorizer(max_features=80, stop_words=&#x27;english&#x27;)</pre></div></div></div></div></div></div><div class=\"sk-parallel-item\"><div class=\"sk-item\"><div class=\"sk-label-container\"><div class=\"sk-label sk-toggleable\"><input class=\"sk-toggleable__control sk-hidden--visually\" id=\"sk-estimator-id-26\" type=\"checkbox\" ><label for=\"sk-estimator-id-26\" class=\"sk-toggleable__label sk-toggleable__label-arrow\">drop</label><div class=\"sk-toggleable__content\"><pre>[&#x27;camis&#x27;, &#x27;dba&#x27;, &#x27;inspection_date&#x27;, &#x27;inspection_type&#x27;, &#x27;score&#x27;]</pre></div></div></div><div class=\"sk-serial\"><div class=\"sk-item\"><div class=\"sk-estimator sk-toggleable\"><input class=\"sk-toggleable__control sk-hidden--visually\" id=\"sk-estimator-id-27\" type=\"checkbox\" ><label for=\"sk-estimator-id-27\" class=\"sk-toggleable__label sk-toggleable__label-arrow\">drop</label><div class=\"sk-toggleable__content\"><pre>drop</pre></div></div></div></div></div></div></div></div><div class=\"sk-item\"><div class=\"sk-estimator sk-toggleable\"><input class=\"sk-toggleable__control sk-hidden--visually\" id=\"sk-estimator-id-28\" type=\"checkbox\" ><label for=\"sk-estimator-id-28\" class=\"sk-toggleable__label sk-toggleable__label-arrow\">LogisticRegression</label><div class=\"sk-toggleable__content\"><pre>LogisticRegression(C=0.6930605534498594, class_weight=&#x27;balanced&#x27;, max_iter=2500,\n",
       "                   random_state=123, solver=&#x27;sag&#x27;)</pre></div></div></div></div></div></div></div>"
      ],
      "text/plain": [
       "Pipeline(steps=[('columntransformer',\n",
       "                 ColumnTransformer(transformers=[('onehotencoder',\n",
       "                                                  OneHotEncoder(handle_unknown='ignore',\n",
       "                                                                max_categories=20,\n",
       "                                                                sparse=False),\n",
       "                                                  ['boro', 'zipcode',\n",
       "                                                   'cuisine_description',\n",
       "                                                   'action', 'violation_code',\n",
       "                                                   'violation_description',\n",
       "                                                   'critical_flag']),\n",
       "                                                 ('countvectorizer',\n",
       "                                                  CountVectorizer(max_features=80,\n",
       "                                                                  stop_words='english'),\n",
       "                                                  'violation_description'),\n",
       "                                                 ('drop', 'drop',\n",
       "                                                  ['camis', 'dba',\n",
       "                                                   'inspection_date',\n",
       "                                                   'inspection_type',\n",
       "                                                   'score'])])),\n",
       "                ('logisticregression',\n",
       "                 LogisticRegression(C=0.6930605534498594,\n",
       "                                    class_weight='balanced', max_iter=2500,\n",
       "                                    random_state=123, solver='sag'))])"
      ]
     },
     "execution_count": 8,
     "metadata": {},
     "output_type": "execute_result"
    }
   ],
   "source": [
    "# fit the best model on the training data\n",
    "\n",
    "print(\"\\nFitting the best model on training data...\")\n",
    "pipe_lr_best.fit(X_train, y_train)"
   ]
  },
  {
   "cell_type": "code",
   "execution_count": 9,
   "metadata": {},
   "outputs": [
    {
     "name": "stdout",
     "output_type": "stream",
     "text": [
      "Score on test data :  0.6491555103654748\n"
     ]
    }
   ],
   "source": [
    "# score the best model on the test data\n",
    "score = pipe_lr_best.score(X_test, y_test)\n",
    "print(\"Score on test data : \", score)"
   ]
  },
  {
   "cell_type": "code",
   "execution_count": 11,
   "metadata": {},
   "outputs": [
    {
     "name": "stdout",
     "output_type": "stream",
     "text": [
      "\n",
      "Creating and saving PR curve plot...\n"
     ]
    },
    {
     "data": {
      "image/png": "[encoded data removed]",
      "text/plain": [
       "<Figure size 640x480 with 1 Axes>"
      ]
     },
     "metadata": {},
     "output_type": "display_data"
    }
   ],
   "source": [
    "# create and save PR curve for the best model\n",
    "\n",
    "print(\"\\nCreating and saving PR curve plot...\")\n",
    "precision, recall, thresholds = precision_recall_curve(\n",
    "y_test, pipe_lr.predict_proba(X_test)[:, 1], pos_label=\"F\"\n",
    ")\n",
    "plt.plot(precision, recall, label=\"logistic regression: PR curve\")\n",
    "plt.xlabel(\"Precision\")\n",
    "plt.ylabel(\"Recall\")\n",
    "plt.plot(\n",
    "    precision_score(y_test, pipe_lr.predict(X_test), pos_label=\"F\"),\n",
    "    recall_score(y_test, pipe_lr.predict(X_test), pos_label=\"F\"),\n",
    "    \"or\",\n",
    "    markersize=10,\n",
    "    label=\"threshold 0.5\",\n",
    ")\n",
    "plt.legend(loc=\"best\");\n",
    "plt.savefig('../results/' + 'logistic_regression_PR_curve.png')"
   ]
  },
  {
   "cell_type": "code",
   "execution_count": 12,
   "metadata": {},
   "outputs": [],
   "source": [
    "# saving the model\n",
    "filename = 'finalized_model.sav'\n",
    "pickle.dump(pipe_lr, open('../results/' + filename, 'wb'))\n",
    "\n",
    "# to load the model\n",
    "# loaded_model = pickle.load(open(output_dir + filename, 'rb'))\n",
    "# result = loaded_model.score(X_test, Y_test)"
   ]
  },
  {
   "cell_type": "code",
   "execution_count": null,
   "metadata": {},
   "outputs": [],
   "source": []
  }
 ],
 "metadata": {
  "kernelspec": {
   "display_name": "Python 3.11.0 ('nyc_rest')",
   "language": "python",
   "name": "python3"
  },
  "language_info": {
   "codemirror_mode": {
    "name": "ipython",
    "version": 3
   },
   "file_extension": ".py",
   "mimetype": "text/x-python",
   "name": "python",
   "nbconvert_exporter": "python",
   "pygments_lexer": "ipython3",
   "version": "3.11.0"
  },
  "orig_nbformat": 4,
  "vscode": {
   "interpreter": {
    "hash": "bb107014b547d6b236687975823ab02ebaf2b1116e9a6d027894d43906e08144"
   }
  }
 },
 "nbformat": 4,
 "nbformat_minor": 2
}
