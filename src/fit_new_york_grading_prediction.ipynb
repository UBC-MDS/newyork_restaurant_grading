{
 "cells": [
  {
   "cell_type": "code",
   "execution_count": 137,
   "metadata": {},
   "outputs": [
    {
     "data": {
      "text/html": [
       "<div>\n",
       "<style scoped>\n",
       "    .dataframe tbody tr th:only-of-type {\n",
       "        vertical-align: middle;\n",
       "    }\n",
       "\n",
       "    .dataframe tbody tr th {\n",
       "        vertical-align: top;\n",
       "    }\n",
       "\n",
       "    .dataframe thead th {\n",
       "        text-align: right;\n",
       "    }\n",
       "</style>\n",
       "<table border=\"1\" class=\"dataframe\">\n",
       "  <thead>\n",
       "    <tr style=\"text-align: right;\">\n",
       "      <th></th>\n",
       "      <th>camis</th>\n",
       "      <th>dba</th>\n",
       "      <th>boro</th>\n",
       "      <th>zipcode</th>\n",
       "      <th>cuisine_description</th>\n",
       "      <th>inspection_date</th>\n",
       "      <th>action</th>\n",
       "      <th>violation_code</th>\n",
       "      <th>violation_description</th>\n",
       "      <th>critical_flag</th>\n",
       "      <th>score</th>\n",
       "      <th>grade</th>\n",
       "      <th>inspection_type</th>\n",
       "    </tr>\n",
       "  </thead>\n",
       "  <tbody>\n",
       "    <tr>\n",
       "      <th>0</th>\n",
       "      <td>50039667</td>\n",
       "      <td>WIDDI HALL</td>\n",
       "      <td>BROOKLYN</td>\n",
       "      <td>11220</td>\n",
       "      <td>Middle Eastern</td>\n",
       "      <td>06/02/2016</td>\n",
       "      <td>Violations were cited in the following area(s).</td>\n",
       "      <td>10F</td>\n",
       "      <td>Non-food contact surface improperly constructe...</td>\n",
       "      <td>Not Critical</td>\n",
       "      <td>9.0</td>\n",
       "      <td>A</td>\n",
       "      <td>Pre-permit (Operational) / Re-inspection</td>\n",
       "    </tr>\n",
       "    <tr>\n",
       "      <th>3</th>\n",
       "      <td>50032889</td>\n",
       "      <td>SHUN YUEN CHINESE RESTAURANT</td>\n",
       "      <td>BRONX</td>\n",
       "      <td>other_zipcode</td>\n",
       "      <td>Chinese</td>\n",
       "      <td>03/29/2018</td>\n",
       "      <td>Violations were cited in the following area(s).</td>\n",
       "      <td>04M</td>\n",
       "      <td>Live roaches present in facility's food and/or...</td>\n",
       "      <td>Critical</td>\n",
       "      <td>12.0</td>\n",
       "      <td>A</td>\n",
       "      <td>Cycle Inspection / Initial Inspection</td>\n",
       "    </tr>\n",
       "    <tr>\n",
       "      <th>6</th>\n",
       "      <td>50058588</td>\n",
       "      <td>SWEETGREEN 55TH AND PARK</td>\n",
       "      <td>MANHATTAN</td>\n",
       "      <td>10022</td>\n",
       "      <td>Other_cuisine</td>\n",
       "      <td>10/30/2018</td>\n",
       "      <td>Violations were cited in the following area(s).</td>\n",
       "      <td>08A</td>\n",
       "      <td>Facility not vermin proof. Harborage or condit...</td>\n",
       "      <td>Not Critical</td>\n",
       "      <td>12.0</td>\n",
       "      <td>A</td>\n",
       "      <td>Cycle Inspection / Initial Inspection</td>\n",
       "    </tr>\n",
       "    <tr>\n",
       "      <th>9</th>\n",
       "      <td>41591198</td>\n",
       "      <td>PEARL'S SOCIAL &amp; BILLY CLUB</td>\n",
       "      <td>BROOKLYN</td>\n",
       "      <td>other_zipcode</td>\n",
       "      <td>American</td>\n",
       "      <td>03/06/2018</td>\n",
       "      <td>Violations were cited in the following area(s).</td>\n",
       "      <td>10B</td>\n",
       "      <td>Plumbing not properly installed or maintained;...</td>\n",
       "      <td>Not Critical</td>\n",
       "      <td>6.0</td>\n",
       "      <td>A</td>\n",
       "      <td>Cycle Inspection / Initial Inspection</td>\n",
       "    </tr>\n",
       "    <tr>\n",
       "      <th>10</th>\n",
       "      <td>50007219</td>\n",
       "      <td>GREENPOINT BEER &amp; ALE</td>\n",
       "      <td>BROOKLYN</td>\n",
       "      <td>other_zipcode</td>\n",
       "      <td>American</td>\n",
       "      <td>10/04/2016</td>\n",
       "      <td>Violations were cited in the following area(s).</td>\n",
       "      <td>09C</td>\n",
       "      <td>Food contact surface not properly maintained.</td>\n",
       "      <td>Not Critical</td>\n",
       "      <td>7.0</td>\n",
       "      <td>A</td>\n",
       "      <td>Cycle Inspection / Initial Inspection</td>\n",
       "    </tr>\n",
       "  </tbody>\n",
       "</table>\n",
       "</div>"
      ],
      "text/plain": [
       "       camis                           dba       boro        zipcode  \\\n",
       "0   50039667                    WIDDI HALL   BROOKLYN          11220   \n",
       "3   50032889  SHUN YUEN CHINESE RESTAURANT      BRONX  other_zipcode   \n",
       "6   50058588      SWEETGREEN 55TH AND PARK  MANHATTAN          10022   \n",
       "9   41591198   PEARL'S SOCIAL & BILLY CLUB   BROOKLYN  other_zipcode   \n",
       "10  50007219         GREENPOINT BEER & ALE   BROOKLYN  other_zipcode   \n",
       "\n",
       "   cuisine_description inspection_date  \\\n",
       "0       Middle Eastern      06/02/2016   \n",
       "3              Chinese      03/29/2018   \n",
       "6        Other_cuisine      10/30/2018   \n",
       "9             American      03/06/2018   \n",
       "10            American      10/04/2016   \n",
       "\n",
       "                                             action violation_code  \\\n",
       "0   Violations were cited in the following area(s).            10F   \n",
       "3   Violations were cited in the following area(s).            04M   \n",
       "6   Violations were cited in the following area(s).            08A   \n",
       "9   Violations were cited in the following area(s).            10B   \n",
       "10  Violations were cited in the following area(s).            09C   \n",
       "\n",
       "                                violation_description critical_flag  score  \\\n",
       "0   Non-food contact surface improperly constructe...  Not Critical    9.0   \n",
       "3   Live roaches present in facility's food and/or...      Critical   12.0   \n",
       "6   Facility not vermin proof. Harborage or condit...  Not Critical   12.0   \n",
       "9   Plumbing not properly installed or maintained;...  Not Critical    6.0   \n",
       "10      Food contact surface not properly maintained.  Not Critical    7.0   \n",
       "\n",
       "   grade                           inspection_type  \n",
       "0      A  Pre-permit (Operational) / Re-inspection  \n",
       "3      A     Cycle Inspection / Initial Inspection  \n",
       "6      A     Cycle Inspection / Initial Inspection  \n",
       "9      A     Cycle Inspection / Initial Inspection  \n",
       "10     A     Cycle Inspection / Initial Inspection  "
      ]
     },
     "execution_count": 137,
     "metadata": {},
     "output_type": "execute_result"
    }
   ],
   "source": [
    "import pandas as pd\n",
    "from sklearn.model_selection import train_test_split\n",
    "from sklearn.compose import ColumnTransformer, make_column_transformer\n",
    "from sklearn.preprocessing import OneHotEncoder, OrdinalEncoder\n",
    "from sklearn.feature_extraction.text import CountVectorizer\n",
    "from scipy.sparse import csr_matrix\n",
    "\n",
    "nyc_df = pd.read_csv(\"../data/raw/nyc_restaurants.csv\")\n",
    "\n",
    "nyc_drop_na_df = nyc_df.dropna()\n",
    "nyc_mod_target_df = nyc_drop_na_df.query(\"grade == ['A', 'B', 'C']\")\n",
    "nyc_mod_target_df.loc[nyc_mod_target_df['grade'] != 'A', 'grade'] = 'F'\n",
    "# nyc_mod_target_df.loc[nyc_mod_target_df[\"grade\"]==\"A\"] = 0\n",
    "# nyc_mod_target_df.loc[nyc_mod_target_df[\"grade\"]==\"F\"] = 1\n",
    "nyc_mod_target_df['grade'].value_counts()\n",
    "\n",
    "nyc_mod_zipcode_df = nyc_mod_target_df.copy()\n",
    "nyc_mod_zipcode_df['zipcode'] = nyc_mod_target_df['zipcode'].apply(int).apply(str)\n",
    "top_20_zipcode = ['10019', '10003', '10036', '10013', '10001', '10002', '10016', '10022', '10011', '11201', \n",
    "                  '11354', '10012', '11220', '10014', '11372', '10017', '10018', '11215', '11211', '10009' ]\n",
    "nyc_mod_zipcode_df.loc[nyc_mod_zipcode_df.query(\"zipcode != @top_20_zipcode\").index, 'zipcode'] = 'other_zipcode'\n",
    "\n",
    "\n",
    "nyc_mod_cuisine_df = nyc_mod_zipcode_df.copy()\n",
    "nyc_mod_cuisine_df.loc[nyc_mod_cuisine_df[nyc_mod_cuisine_df['cuisine_description'].map(nyc_mod_cuisine_df['cuisine_description'].value_counts()) < 600].index, 'cuisine_description'] = 'Other_cuisine'\n",
    "\n",
    "nyc_mod_violation_des_df = nyc_mod_cuisine_df.copy()\n",
    "nyc_mod_violation_des_df.loc[nyc_mod_violation_des_df[nyc_mod_violation_des_df['violation_description'].map(nyc_mod_violation_des_df['violation_description'].value_counts()) < 500].index, 'violation_description'] = 'Other_violation_des'\n",
    "\n",
    "nyc_final_df = nyc_mod_violation_des_df\n",
    "nyc_final_df.head()\n",
    "\n"
   ]
  },
  {
   "cell_type": "code",
   "execution_count": 138,
   "metadata": {},
   "outputs": [
    {
     "data": {
      "text/plain": [
       "0    0.82808\n",
       "1    0.17192\n",
       "Name: grade, dtype: float64"
      ]
     },
     "execution_count": 138,
     "metadata": {},
     "output_type": "execute_result"
    }
   ],
   "source": [
    "test_df[\"grade\"].value_counts(normalize=True)"
   ]
  },
  {
   "cell_type": "code",
   "execution_count": 139,
   "metadata": {},
   "outputs": [],
   "source": [
    "#nyc_final_df[\"dba\"] = [str (item) for item in nyc_final_df[\"dba\"]]\n",
    "#nyc_final_df[\"violation_description\"] = [str (item) for item in nyc_final_df[\"violation_description\"]]\n",
    "for i in nyc_final_df[\"violation_description\"]:\n",
    "    if type(i) != str:\n",
    "        print(i)"
   ]
  },
  {
   "cell_type": "code",
   "execution_count": 140,
   "metadata": {},
   "outputs": [],
   "source": [
    "# Train & test split\n",
    "train_df, test_df = train_test_split(nyc_final_df, test_size=0.25, random_state=123)\n",
    "\n",
    "train_df.loc[train_df[\"grade\"]==\"A\", \"grade\"] = 0\n",
    "train_df.loc[train_df[\"grade\"]==\"F\", \"grade\"] = 1\n",
    "\n",
    "test_df.loc[test_df[\"grade\"]==\"A\", \"grade\"] = 0\n",
    "test_df.loc[test_df[\"grade\"]==\"F\", \"grade\"] = 1\n",
    "\n",
    "X_train = train_df.drop(columns=[\"grade\"])\n",
    "y_train = train_df[\"grade\"]\n",
    "X_test = test_df.drop(columns=[\"grade\"])\n",
    "y_test = test_df[\"grade\"]"
   ]
  },
  {
   "cell_type": "code",
   "execution_count": 142,
   "metadata": {},
   "outputs": [],
   "source": [
    "for i in X_train[\"dba\"]:\n",
    "    if type(i) != str:\n",
    "        print(i)"
   ]
  },
  {
   "cell_type": "code",
   "execution_count": 143,
   "metadata": {},
   "outputs": [],
   "source": [
    "y_train = pd.to_numeric(y_train)\n",
    "y_test = pd.to_numeric(y_test)"
   ]
  },
  {
   "cell_type": "code",
   "execution_count": null,
   "metadata": {},
   "outputs": [],
   "source": []
  },
  {
   "cell_type": "code",
   "execution_count": 144,
   "metadata": {},
   "outputs": [
    {
     "data": {
      "text/html": [
       "<div>\n",
       "<style scoped>\n",
       "    .dataframe tbody tr th:only-of-type {\n",
       "        vertical-align: middle;\n",
       "    }\n",
       "\n",
       "    .dataframe tbody tr th {\n",
       "        vertical-align: top;\n",
       "    }\n",
       "\n",
       "    .dataframe thead th {\n",
       "        text-align: right;\n",
       "    }\n",
       "</style>\n",
       "<table border=\"1\" class=\"dataframe\">\n",
       "  <thead>\n",
       "    <tr style=\"text-align: right;\">\n",
       "      <th></th>\n",
       "      <th>mean</th>\n",
       "      <th>std</th>\n",
       "    </tr>\n",
       "  </thead>\n",
       "  <tbody>\n",
       "    <tr>\n",
       "      <th>fit_time</th>\n",
       "      <td>0.012</td>\n",
       "      <td>0.004</td>\n",
       "    </tr>\n",
       "    <tr>\n",
       "      <th>score_time</th>\n",
       "      <td>0.005</td>\n",
       "      <td>0.003</td>\n",
       "    </tr>\n",
       "    <tr>\n",
       "      <th>test_score</th>\n",
       "      <td>0.000</td>\n",
       "      <td>0.000</td>\n",
       "    </tr>\n",
       "    <tr>\n",
       "      <th>train_score</th>\n",
       "      <td>0.000</td>\n",
       "      <td>0.000</td>\n",
       "    </tr>\n",
       "  </tbody>\n",
       "</table>\n",
       "</div>"
      ],
      "text/plain": [
       "              mean    std\n",
       "fit_time     0.012  0.004\n",
       "score_time   0.005  0.003\n",
       "test_score   0.000  0.000\n",
       "train_score  0.000  0.000"
      ]
     },
     "execution_count": 144,
     "metadata": {},
     "output_type": "execute_result"
    }
   ],
   "source": [
    "from sklearn.dummy import DummyClassifier\n",
    "from sklearn.model_selection import cross_val_score, cross_validate\n",
    "\n",
    "cross_val_results = {}\n",
    "dc = DummyClassifier()\n",
    "cross_val_results['dummy'] = pd.DataFrame(cross_validate(dc, X_train, y_train, return_train_score=True, scoring=\"f1\")).agg(['mean', 'std']).round(3).T\n",
    "cross_val_results['dummy']"
   ]
  },
  {
   "cell_type": "code",
   "execution_count": 146,
   "metadata": {},
   "outputs": [
    {
     "data": {
      "text/plain": [
       "{'dummy':               mean    std\n",
       " fit_time     0.012  0.004\n",
       " score_time   0.005  0.003\n",
       " test_score   0.000  0.000\n",
       " train_score  0.000  0.000,\n",
       " 'logreg':               mean    std\n",
       " fit_time     7.118  1.493\n",
       " score_time   0.463  0.269\n",
       " test_score   0.989  0.002\n",
       " train_score  0.993  0.001}"
      ]
     },
     "execution_count": 146,
     "metadata": {},
     "output_type": "execute_result"
    }
   ],
   "source": [
    "from sklearn.pipeline import make_pipeline\n",
    "from sklearn.linear_model import LogisticRegression\n",
    "\n",
    "# features\n",
    "target = ['grade']\n",
    "categorical_features = ['boro', 'zipcode', 'cuisine_description', 'action', 'violation_code', 'critical_flag', 'inspection_type']\n",
    "passthrough_features = ['score']\n",
    "drop_features = ['camis', 'inspection_date']\n",
    "text_features = 'dba'\n",
    "text_features_2 = 'violation_description'\n",
    "\n",
    "# column transformer\n",
    "preprocessor = make_column_transformer( \n",
    "    (\"passthrough\", passthrough_features),  \n",
    "    (OneHotEncoder(handle_unknown=\"ignore\", sparse=False), categorical_features),  \n",
    "    (CountVectorizer(max_features=2000, stop_words=\"english\"), text_features),\n",
    "    (CountVectorizer(max_features=2000, stop_words=\"english\"), text_features_2),\n",
    "    (\"drop\", drop_features)\n",
    ")\n",
    "\n",
    "pipe_lr = make_pipeline(preprocessor, LogisticRegression(random_state=123, max_iter=1000))\n",
    "cross_val_results['logreg'] = pd.DataFrame(cross_validate(pipe_lr, X_train, y_train, return_train_score=True, scoring=\"f1\")).agg(['mean', 'std']).round(3).T\n",
    "cross_val_results\n"
   ]
  },
  {
   "cell_type": "code",
   "execution_count": null,
   "metadata": {},
   "outputs": [
    {
     "data": {
      "text/plain": [
       "{'dummy':               mean    std\n",
       " fit_time     0.046  0.003\n",
       " score_time   0.023  0.002\n",
       " test_score   0.825  0.000\n",
       " train_score  0.825  0.000,\n",
       " 'logreg':               mean    std\n",
       " fit_time     8.687  1.068\n",
       " score_time   0.485  0.028\n",
       " test_score   0.996  0.001\n",
       " train_score  0.998  0.000}"
      ]
     },
     "execution_count": 68,
     "metadata": {},
     "output_type": "execute_result"
    }
   ],
   "source": [
    "cross_val_results"
   ]
  },
  {
   "cell_type": "code",
   "execution_count": null,
   "metadata": {},
   "outputs": [],
   "source": [
    "pipe_lr.fit(X_train, y_train)"
   ]
  },
  {
   "cell_type": "code",
   "execution_count": null,
   "metadata": {},
   "outputs": [],
   "source": [
    "len_vocab = len(pipe_lr.named_steps[\"columntransformer\"].named_transformers_[\"countvectorizer\"].get_feature_names_out())"
   ]
  }
 ],
 "metadata": {
  "kernelspec": {
   "display_name": "Python 3.11.0 ('nyc_rest')",
   "language": "python",
   "name": "python3"
  },
  "language_info": {
   "codemirror_mode": {
    "name": "ipython",
    "version": 3
   },
   "file_extension": ".py",
   "mimetype": "text/x-python",
   "name": "python",
   "nbconvert_exporter": "python",
   "pygments_lexer": "ipython3",
   "version": "3.11.0"
  },
  "orig_nbformat": 4,
  "vscode": {
   "interpreter": {
    "hash": "bb107014b547d6b236687975823ab02ebaf2b1116e9a6d027894d43906e08144"
   }
  }
 },
 "nbformat": 4,
 "nbformat_minor": 2
}
