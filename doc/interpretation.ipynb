{
 "cells": [
  {
   "cell_type": "markdown",
   "metadata": {},
   "source": [
    "**Comparison of models**\n",
    "\n",
    "Since this is a binary classification problem, we picked four different models to train on our data - logistic regression (balanced and imbalanced) and support vector machines (balanced and imbalanced). We also had a base model (Dummy Classifier) so that we know if our trained models are doing better than the baseline. \n",
    "\n",
    "LINK : https://github.com/UBC-MDS/newyork_restaurant_grading/blob/main/results/mean_scores_table.png\n",
    "\n",
    "As can be seen from the results, all four models are doing far better than the baseline model. We expected the balanced models to give us a better cross validation score given that our dataset is quite imbalanced. Comparing the scores of each model, we can see that the balanced are doing much better than their counterparts. In addition to that, the validation scores of the logistic regression model is higher than that of the support vector model. Hence we choose the balanced logistic regression as our classifier to train the dataset.\n",
    "\n",
    "**Hyperparameter tuning results on logreg**\n",
    "\n",
    "LINK : https://github.com/UBC-MDS/newyork_restaurant_grading/blob/main/results/hyperparam_results.png\n",
    "\n",
    "We performed hyperparameter optimization using Random Search CV and found the best values for the hyperparameters of the balanced logistic regression model to be :\n",
    "C - 22.219381\n",
    "max_features - 177\n",
    "max_categories - 17\n",
    "\n",
    "**Train/validation scores from the best model**\n",
    "\n",
    "LINK : https://github.com/UBC-MDS/newyork_restaurant_grading/blob/main/results/best_model_results.png\n",
    "\n",
    "Using the hyperparameters from our best model, we performed cross validation on the training set and found a good f1 score of 0.996. Both the precision and recall scores for the validation set was high, indicating that the model is accurate about its prediction (whether a restaurant will receive an F grade or not) but is also able to identify all the restaurants (or 99% of the restaurants) that actually have received an F grade.\n",
    "\n",
    "**Classification report from the best model on the test set**\n",
    "\n",
    "LINK : https://github.com/UBC-MDS/newyork_restaurant_grading/blob/main/results/test_classification_report.png\n",
    "\n",
    "**Confusion matrices from the best model on train and test set**\n",
    "\n",
    "LINK : https://github.com/UBC-MDS/newyork_restaurant_grading/blob/main/results/confusion_matrices.png\n",
    "\n",
    "**PR curve from test set**\n",
    "\n",
    "LINK : https://github.com/UBC-MDS/newyork_restaurant_grading/blob/main/results/PR_curve.png\n",
    "\n",
    "The PR curve shows us that if we keep the threshold at 0.5, we are at an optimum point having high precision as well as high recall. If we lower this threshold any further, we could lose recall score and hence would not be successful in identifying many restaurants that should have the grade \"F\".\n",
    "\n",
    "**ROC curve from test set**\n",
    "\n",
    "LINK : https://github.com/UBC-MDS/newyork_restaurant_grading/blob/main/results/ROC_curve.png\n",
    "\n",
    "The ROC curve is a plot between the False Positive Rate and the True Positive Rate. Through this graph we find the area under the curve (AUC) is 1.00. This is the optimum value for an AUC and tells us that the predictions from our model are 100% correct.\n",
    "\n",
    "**NOTE regarding high f1 score -**\n",
    "\n",
    "We realize that the f1 score, precision and recall of our model on the train, validation and test set are quite high. This could be due to the following reasons:\n",
    "\n",
    "- Our training data contains a significant amount of points (30,000) - hence the model was able to generalize well.\n",
    "- It is possible that there are underlying linear relationships between different columns and the target\n",
    "\n"
   ]
  },
  {
   "cell_type": "code",
   "execution_count": null,
   "metadata": {},
   "outputs": [],
   "source": []
  }
 ],
 "metadata": {
  "kernelspec": {
   "display_name": "Python 3.11.0 ('nyc_rest')",
   "language": "python",
   "name": "python3"
  },
  "language_info": {
   "codemirror_mode": {
    "name": "ipython",
    "version": 3
   },
   "file_extension": ".py",
   "mimetype": "text/x-python",
   "name": "python",
   "nbconvert_exporter": "python",
   "pygments_lexer": "ipython3",
   "version": "3.11.0"
  },
  "orig_nbformat": 4,
  "vscode": {
   "interpreter": {
    "hash": "bb107014b547d6b236687975823ab02ebaf2b1116e9a6d027894d43906e08144"
   }
  }
 },
 "nbformat": 4,
 "nbformat_minor": 2
}
